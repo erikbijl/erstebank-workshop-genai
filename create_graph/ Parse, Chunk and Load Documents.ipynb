{
 "cells": [
  {
   "cell_type": "markdown",
   "id": "3cb59233-c8ac-4b5c-99ce-821c8559faea",
   "metadata": {},
   "source": [
    "# Parse, Chunk and Load Documents "
   ]
  },
  {
   "cell_type": "markdown",
   "id": "c0240452-1a49-4960-b9eb-0d36baf1aea5",
   "metadata": {},
   "source": [
    "The following notebook executes three steps: \n",
    "- **Parsing and Chunking**: The first part of the notebook parses and chunks the documents.  This is done by the [PyPDFLoader](https://python.langchain.com/v0.1/docs/modules/data_connection/document_loaders/pdf/#using-pypdf) of LangChain. More documentation can be found here: [LangChain API](https://api.python.langchain.com/en/latest/document_loaders/langchain_community.document_loaders.pdf.PyPDFLoader.html). \n",
    "- **Embeddings**: For every chunk an embeddings is created. For these an OpenAI Embeddings model is used: [text-embedding-3-small](https://platform.openai.com/docs/models/embeddings). \n",
    "- **Load to Database**: The Documents and Chunks are loaded to Neo4j. This is done using the [Python Driver](https://neo4j.com/docs/api/python-driver/current/) that enables querying from a Python script."
   ]
  },
  {
   "cell_type": "code",
   "execution_count": null,
   "id": "07e9c561",
   "metadata": {},
   "outputs": [],
   "source": [
    "%pip install pypdf langchain_community langchain langchain_openai IPython neo4j"
   ]
  },
  {
   "cell_type": "code",
   "execution_count": null,
   "id": "6c13ce51-9fce-4b71-a4c5-c4d077d0f0e6",
   "metadata": {},
   "outputs": [],
   "source": [
    "import pandas as pd\n",
    "import numpy as np\n",
    "from langchain_community.document_loaders import PyPDFLoader\n",
    "from langchain.text_splitter import RecursiveCharacterTextSplitter\n",
    "from langchain_openai import OpenAIEmbeddings\n",
    "from langchain_openai import ChatOpenAI\n",
    "import os\n",
    "from dotenv import load_dotenv\n",
    "from neo4j import Query, GraphDatabase, RoutingControl, Result\n",
    "import ast\n",
    "from IPython.display import clear_output"
   ]
  },
  {
   "cell_type": "markdown",
   "id": "10119273-1820-4b65-a478-5af8eccef5ba",
   "metadata": {},
   "source": [
    "## Get Credentials"
   ]
  },
  {
   "cell_type": "code",
   "execution_count": null,
   "id": "9a7210ca-5bfc-4970-9d61-bc8ad52e400a",
   "metadata": {},
   "outputs": [],
   "source": [
    "env_file = '../ws.env'"
   ]
  },
  {
   "cell_type": "code",
   "execution_count": null,
   "id": "6cdad99f-c40f-4bee-a988-ac25e3a3f7ee",
   "metadata": {},
   "outputs": [],
   "source": [
    "if os.path.exists(env_file):\n",
    "    load_dotenv(env_file, override=True)\n",
    "\n",
    "    # Neo4j\n",
    "    HOST = os.getenv('NEO4J_URI')\n",
    "    USERNAME = os.getenv('NEO4J_USERNAME')\n",
    "    PASSWORD = os.getenv('NEO4J_PASSWORD')\n",
    "    DATABASE = os.getenv('NEO4J_DATABASE')\n",
    "\n",
    "    # AI\n",
    "    OPENAI_API_KEY = os.getenv('OPENAI_API_KEY')\n",
    "    os.environ['OPENAI_API_KEY']=OPENAI_API_KEY\n",
    "    LLM = os.getenv('LLM')\n",
    "    EMBEDDINGS_MODEL = os.getenv('EMBEDDINGS_MODEL')\n",
    "else:\n",
    "    print(f\"File {env_file} not found.\")"
   ]
  },
  {
   "cell_type": "code",
   "execution_count": null,
   "id": "de38cdf9-3b3e-4dac-bbb8-efff1117cffe",
   "metadata": {},
   "outputs": [],
   "source": [
    "documents_path = \"../documents/\""
   ]
  },
  {
   "cell_type": "markdown",
   "id": "9705045c-c4cb-4160-89f3-1223cabc0f30",
   "metadata": {},
   "source": [
    "## Parse and Chunk Documents"
   ]
  },
  {
   "cell_type": "code",
   "execution_count": null,
   "id": "3b4fedf1-81a4-4201-b64f-3df3de5aa036",
   "metadata": {},
   "outputs": [],
   "source": [
    "chunk_size = 1000\n",
    "chunk_overlap = 100"
   ]
  },
  {
   "cell_type": "code",
   "execution_count": null,
   "id": "ddcdfc11-535c-4b5a-8b00-c445d2d18573",
   "metadata": {},
   "outputs": [],
   "source": [
    "text_splitter = RecursiveCharacterTextSplitter(\n",
    "    chunk_size = chunk_size,\n",
    "    chunk_overlap  = chunk_overlap,\n",
    "    length_function = len,\n",
    "    is_separator_regex = False,\n",
    ")"
   ]
  },
  {
   "cell_type": "code",
   "execution_count": null,
   "id": "c1b982eb-0356-44c6-b286-860bf614fdb6",
   "metadata": {},
   "outputs": [],
   "source": [
    "directory = os.fsencode(documents_path)\n",
    "chunk_seq_id = 0\n",
    "chunks_with_metadata = []\n",
    "\n",
    "for doc in os.listdir(directory):\n",
    "    doc_name = os.fsdecode(doc)\n",
    "    if doc_name != '.DS_Store':\n",
    "        print(f\"Parsing: {doc_name}\")\n",
    "        doc_path = documents_path + doc_name\n",
    "        loader = PyPDFLoader(doc_path)\n",
    "        pages = loader.load_and_split()\n",
    "        num_chunks = 0\n",
    "        for page in pages:\n",
    "            chunks = text_splitter.split_text(page.page_content)\n",
    "            for chunk in chunks:\n",
    "                d = {\n",
    "                    'file': page.metadata['source'],\n",
    "                    'page': page.metadata['page'],\n",
    "                    'chunk_original': chunk,\n",
    "                    'num_chuncks': len(chunks),\n",
    "                    'chunk_seq_id': chunk_seq_id\n",
    "                }\n",
    "                chunk_seq_id += 1\n",
    "                num_chunks += 1\n",
    "                chunks_with_metadata.append(d.copy())\n",
    "        print(f\"chunked {len(pages)} pages in {num_chunks} chunks\")"
   ]
  },
  {
   "cell_type": "markdown",
   "id": "4c5b86ed-e7dd-4063-9826-ffaf0bf77fe6",
   "metadata": {},
   "source": [
    "Create a DataFrame of Chunks"
   ]
  },
  {
   "cell_type": "code",
   "execution_count": null,
   "id": "90f9f7ca-e6ba-4fa3-83eb-50a294e3a32c",
   "metadata": {},
   "outputs": [],
   "source": [
    "df = pd.DataFrame.from_dict(chunks_with_metadata)"
   ]
  },
  {
   "cell_type": "code",
   "execution_count": null,
   "id": "22c1d2a1-e43e-40c8-b305-7fc061896872",
   "metadata": {},
   "outputs": [],
   "source": [
    "df"
   ]
  },
  {
   "cell_type": "markdown",
   "id": "d2a1321a-db79-478a-8474-74bb9a7cb613",
   "metadata": {},
   "source": [
    "#### Translate Documents"
   ]
  },
  {
   "cell_type": "code",
   "execution_count": null,
   "id": "b638a5ee-f608-45ee-ae9a-8f5a964c5afe",
   "metadata": {},
   "outputs": [],
   "source": [
    "llm = ChatOpenAI(temperature=0, model=LLM)\n",
    "llm.model_name"
   ]
  },
  {
   "cell_type": "code",
   "execution_count": null,
   "id": "c64c4e46-41d1-4f5d-b702-6b57a70972d6",
   "metadata": {},
   "outputs": [],
   "source": [
    "def translate_text(text):\n",
    "    messages = [\n",
    "        (\"system\", \"You are a helpful assistant that translates German to English. Translate the text. Output should always be in English. If the chunk is is fully in English, just copy input to output. Keep the structure as is. \"),\n",
    "        (\"human\", text),\n",
    "    ]\n",
    "    ai_msg = llm.invoke(messages)\n",
    "    return ai_msg.content"
   ]
  },
  {
   "cell_type": "code",
   "execution_count": null,
   "id": "cca8c136-09dd-4b42-8178-ac59e3340a23",
   "metadata": {},
   "outputs": [],
   "source": [
    "df.iloc[16]['chunk_original']"
   ]
  },
  {
   "cell_type": "code",
   "execution_count": null,
   "id": "dd083ca8-12a2-4532-8ff8-e45b698f0d43",
   "metadata": {},
   "outputs": [],
   "source": [
    "translate_text(df.iloc[16]['chunk_original'])"
   ]
  },
  {
   "cell_type": "code",
   "execution_count": null,
   "id": "a77ee73c-5807-4f27-b3e0-0538b8ea7042",
   "metadata": {},
   "outputs": [],
   "source": [
    "docs_to_translate = [\n",
    "    documents_path + 'IPID_KV_Sonderklasse_bestHEALTH.pdf', \n",
    "    documents_path + 'MIFID_Austria.pdf',\n",
    "    documents_path + 'Travel_Insurance_Credit_Cards.pdf',\n",
    "    documents_path + 'Travel_Insurance_Terms_2025.pdf'\n",
    "]"
   ]
  },
  {
   "cell_type": "code",
   "execution_count": null,
   "id": "f6ca431d-e87d-44b7-a37b-745ee16ceca5",
   "metadata": {},
   "outputs": [],
   "source": [
    "docs_to_translate"
   ]
  },
  {
   "cell_type": "code",
   "execution_count": null,
   "id": "53b08760-caf2-4cb9-bb24-72b8b9c5e09b",
   "metadata": {},
   "outputs": [],
   "source": [
    "df[\"chunk_eng\"] = df.apply(\n",
    "    lambda row: translate_text(row[\"chunk_original\"]) \n",
    "                if row[\"file\"] in docs_to_translate \n",
    "                else row[\"chunk_original\"],\n",
    "    axis=1)"
   ]
  },
  {
   "cell_type": "code",
   "execution_count": null,
   "id": "86cd29c7-1188-49b3-b2cd-1b9b76fe33a8",
   "metadata": {},
   "outputs": [],
   "source": [
    "df.head()"
   ]
  },
  {
   "cell_type": "markdown",
   "id": "7d3d272e-1a3f-40b8-a6f1-1df6feff98cf",
   "metadata": {},
   "source": [
    "## Create embeddings"
   ]
  },
  {
   "cell_type": "markdown",
   "id": "56eaf185-6c4d-45d4-9ad9-608d876bf4ad",
   "metadata": {},
   "source": [
    "Load an embedding model"
   ]
  },
  {
   "cell_type": "code",
   "execution_count": null,
   "id": "103c4c7e-7012-43b1-8fdd-cef8c9baaf55",
   "metadata": {},
   "outputs": [],
   "source": [
    "embeddings_model = OpenAIEmbeddings(\n",
    "    model = EMBEDDINGS_MODEL,\n",
    "    openai_api_key = OPENAI_API_KEY\n",
    ")"
   ]
  },
  {
   "cell_type": "markdown",
   "id": "f8f72bec-6c2b-41ff-b37b-da9d703ccb7e",
   "metadata": {},
   "source": [
    "Add an embedding for every chunk in the DataFrame"
   ]
  },
  {
   "cell_type": "code",
   "execution_count": null,
   "id": "e76345e9-469b-4f58-9f0d-9f40b0391a4d",
   "metadata": {},
   "outputs": [],
   "source": [
    "df['embedding'] = df['chunk_eng'].apply(lambda x: embeddings_model.embed_query(x))"
   ]
  },
  {
   "cell_type": "code",
   "execution_count": null,
   "id": "fce3cdd8-0eba-46ee-ac5d-363f4f9d6f45",
   "metadata": {},
   "outputs": [],
   "source": [
    "df.head()"
   ]
  },
  {
   "cell_type": "markdown",
   "id": "a1c30da8-ab39-4a2d-9a40-639e70c081cd",
   "metadata": {},
   "source": [
    "## Create Neo4j Connection"
   ]
  },
  {
   "cell_type": "markdown",
   "id": "364c6342-1196-4465-a250-713ea5c6fa32",
   "metadata": {},
   "source": [
    "Setup the Python Driver for Neo4j with the loaded credentials"
   ]
  },
  {
   "cell_type": "code",
   "execution_count": null,
   "id": "b328fe53-6071-4abc-b641-d092c65aacf7",
   "metadata": {},
   "outputs": [],
   "source": [
    "driver = GraphDatabase.driver(\n",
    "    HOST,\n",
    "    auth=(USERNAME, PASSWORD)\n",
    ")"
   ]
  },
  {
   "cell_type": "markdown",
   "id": "be8926e8-766e-46a7-ae09-d632c5207737",
   "metadata": {},
   "source": [
    "Test the Connection"
   ]
  },
  {
   "cell_type": "code",
   "execution_count": null,
   "id": "7c3249de-e8f3-4e5b-861c-4e490b4dbf66",
   "metadata": {},
   "outputs": [],
   "source": [
    "driver.execute_query(\n",
    "    \"\"\"\n",
    "    MATCH (n) RETURN COUNT(n) as Count\n",
    "    \"\"\",\n",
    "    database_=DATABASE,\n",
    "    routing_=RoutingControl.READ,\n",
    "    result_transformer_= lambda r: r.to_df()\n",
    ")"
   ]
  },
  {
   "cell_type": "markdown",
   "id": "9112f4bb-e5dc-4123-9431-fe7e521e01f4",
   "metadata": {},
   "source": [
    "## Load to Database"
   ]
  },
  {
   "cell_type": "markdown",
   "id": "41fea66b-519c-4696-855b-1b4c0e4c180f",
   "metadata": {},
   "source": [
    "Create some constraints"
   ]
  },
  {
   "cell_type": "code",
   "execution_count": null,
   "id": "007893ed-9b3d-436f-8839-9399171bb5de",
   "metadata": {},
   "outputs": [],
   "source": [
    "driver.execute_query(\n",
    "    'CREATE CONSTRAINT unique_document IF NOT EXISTS FOR (d:Document) REQUIRE d.id IS UNIQUE',\n",
    "    database_=DATABASE,\n",
    "    routing_=RoutingControl.WRITE\n",
    ")"
   ]
  },
  {
   "cell_type": "code",
   "execution_count": null,
   "id": "8ffec8e8-f634-4140-8ae1-c2baa3d7dfd2",
   "metadata": {},
   "outputs": [],
   "source": [
    "driver.execute_query(\n",
    "    'CREATE CONSTRAINT unique_chunk IF NOT EXISTS FOR (c:Chunk) REQUIRE c.id IS UNIQUE',\n",
    "    database_=DATABASE,\n",
    "    routing_=RoutingControl.WRITE\n",
    ")"
   ]
  },
  {
   "cell_type": "code",
   "execution_count": null,
   "id": "9a400707-e2b0-4fe5-9d74-74b68a389641",
   "metadata": {},
   "outputs": [],
   "source": [
    "schema_result_df  = driver.execute_query(\n",
    "    'SHOW CONSTRAINTS',\n",
    "    database_=DATABASE,\n",
    "    routing_=RoutingControl.READ,\n",
    "    result_transformer_= lambda r: r.to_df()\n",
    ")\n",
    "schema_result_df.head()"
   ]
  },
  {
   "cell_type": "markdown",
   "id": "1249c8cb-bdbd-4c15-84d6-0bf9c4772576",
   "metadata": {},
   "source": [
    "### Load Documents Nodes to database"
   ]
  },
  {
   "cell_type": "markdown",
   "id": "4cc5cb9e-c572-4f6d-bd9a-91a34830c979",
   "metadata": {},
   "source": [
    "Create Dataframe from the documents"
   ]
  },
  {
   "cell_type": "code",
   "execution_count": null,
   "id": "6a3566fc-f580-4ffa-ae72-18136ba443b4",
   "metadata": {},
   "outputs": [],
   "source": [
    "document_df = df['file'].drop_duplicates().copy()\n",
    "document_df = document_df.reset_index().drop('index',axis=1).reset_index()\n",
    "document_df = document_df.rename(columns={\"index\": \"doc_id\", \"file\": \"file_location\"})\n",
    "document_df['file_name'] = document_df['file_location'].apply(lambda x: x.split('/')[-1])\n",
    "document_df"
   ]
  },
  {
   "cell_type": "markdown",
   "id": "8b74c38e-44fd-4947-ad41-918fee9a0c6e",
   "metadata": {},
   "source": [
    "Get number of pages per file"
   ]
  },
  {
   "cell_type": "code",
   "execution_count": null,
   "id": "03ebd200-a06e-4251-9de8-05a1f2a4db93",
   "metadata": {},
   "outputs": [],
   "source": [
    "df = pd.merge(df, document_df, left_on='file', right_on='file_location', how='left').copy()"
   ]
  },
  {
   "cell_type": "code",
   "execution_count": null,
   "id": "263acf5e-6472-49bf-9c21-db411bba39de",
   "metadata": {},
   "outputs": [],
   "source": [
    "df"
   ]
  },
  {
   "cell_type": "code",
   "execution_count": null,
   "id": "89c5bd7e-7feb-429f-a36a-abc1e50ef13e",
   "metadata": {},
   "outputs": [],
   "source": [
    "pages_df = df.groupby(['doc_id', 'file_name']).max(['page'])['page'].apply(lambda x: x+1)"
   ]
  },
  {
   "cell_type": "code",
   "execution_count": null,
   "id": "340c8f6c-1d66-4ed6-a706-16340eff6f60",
   "metadata": {},
   "outputs": [],
   "source": [
    "document_df = pd.merge(document_df, pages_df, on='doc_id', how='left')\n",
    "document_df"
   ]
  },
  {
   "cell_type": "markdown",
   "id": "bd81c08e-d951-410a-8b20-2b36b97f1e7b",
   "metadata": {},
   "source": [
    "### Load the Documents"
   ]
  },
  {
   "cell_type": "code",
   "execution_count": null,
   "id": "048d132b-c0d1-4282-b9ab-aea8a00a4a8c",
   "metadata": {},
   "outputs": [],
   "source": [
    "merge_file_query = \"\"\"\n",
    "    MERGE(mergedDocument:Document {id: $doc_id})\n",
    "    SET mergedDocument.file_location = $file_location,\n",
    "        mergedDocument.file_name = $file_name,\n",
    "        mergedDocument.pages = $file_pages\n",
    "    RETURN mergedDocument\n",
    "    \"\"\""
   ]
  },
  {
   "cell_type": "code",
   "execution_count": null,
   "id": "cddd288f-a19f-4d76-a926-35a5df7d427c",
   "metadata": {},
   "outputs": [],
   "source": [
    "document_df"
   ]
  },
  {
   "cell_type": "code",
   "execution_count": null,
   "id": "32dbfc3d-0900-47fa-b0b7-b41d36ba7e9a",
   "metadata": {},
   "outputs": [],
   "source": [
    "for index, row in document_df.iterrows():\n",
    "    print(row)\n",
    "    clear_output(wait=True)\n",
    "    driver.execute_query(\n",
    "        merge_file_query,\n",
    "        database_=DATABASE,\n",
    "        routing_=RoutingControl.WRITE,\n",
    "        doc_id = row.doc_id,\n",
    "        file_location = row.file_location,\n",
    "        file_name = row.file_name,\n",
    "        file_pages = row.page\n",
    "    )\n",
    "    print(f\"Loaded {row['file_name']}\")\n",
    "    print(\"Progress: \", np.round((index+1)/document_df.shape[0]*100,2), \"%\")"
   ]
  },
  {
   "cell_type": "markdown",
   "id": "920b65eb-a1e6-47cf-a1f2-a1ed3ed3cd59",
   "metadata": {},
   "source": [
    "### Load Chunk Nodes to database"
   ]
  },
  {
   "cell_type": "markdown",
   "id": "da740799-3ce3-4b73-8e15-c95b41487ab9",
   "metadata": {},
   "source": [
    "Create Dataframe for chunks"
   ]
  },
  {
   "cell_type": "code",
   "execution_count": null,
   "id": "c285d41f-9c12-43a6-84c7-2b4950b072f9",
   "metadata": {},
   "outputs": [],
   "source": [
    "chunks_df = df[['chunk_seq_id', 'num_chuncks', 'page', 'chunk_original', 'chunk_eng', 'embedding']]\n",
    "chunks_df"
   ]
  },
  {
   "cell_type": "code",
   "execution_count": null,
   "id": "3ddc32bf-825f-49c9-8742-0229e39684fd",
   "metadata": {},
   "outputs": [],
   "source": [
    "merge_chunck_query = \"\"\"\n",
    "    MERGE(mergedChunk:Chunk {id: $chunk_seq_id})\n",
    "        ON CREATE SET\n",
    "            mergedChunk.page = $page,\n",
    "            mergedChunk.chunk_original = $chunk_original,\n",
    "            mergedChunk.chunk_eng = $chunk_eng,\n",
    "            mergedChunk.embedding = $embedding\n",
    "    RETURN mergedChunk\n",
    "\"\"\""
   ]
  },
  {
   "cell_type": "code",
   "execution_count": null,
   "id": "d15c2d39-f138-4fbb-96fd-e417cfad2ff4",
   "metadata": {},
   "outputs": [],
   "source": [
    "for index, row in chunks_df.iterrows():\n",
    "    clear_output(wait=True)\n",
    "    driver.execute_query(\n",
    "        merge_chunck_query,\n",
    "        database_=DATABASE,\n",
    "        routing_=RoutingControl.WRITE,\n",
    "        chunk_seq_id = row.chunk_seq_id,\n",
    "        page = row.page,\n",
    "        chunk_original = row.chunk_original,\n",
    "        chunk_eng = row.chunk_eng,\n",
    "        embedding = row.embedding\n",
    "    )\n",
    "    print(\"Progress: \", np.round(((index+1)/chunks_df.shape[0])*100,2), \"%\")"
   ]
  },
  {
   "cell_type": "markdown",
   "id": "3c3cb6cd-81e8-489b-91cc-924f9c3cbb29",
   "metadata": {},
   "source": [
    "### Load File to Chunk Relationship"
   ]
  },
  {
   "cell_type": "code",
   "execution_count": null,
   "id": "d5616bbe-5ae9-4cca-892d-0c839324feda",
   "metadata": {},
   "outputs": [],
   "source": [
    "part_of_df = df[['chunk_seq_id', 'doc_id']].copy()\n",
    "part_of_df"
   ]
  },
  {
   "cell_type": "code",
   "execution_count": null,
   "id": "858cb936-5338-4e81-a1ab-7cc69121578d",
   "metadata": {},
   "outputs": [],
   "source": [
    "merge_part_of_query = \"\"\"\n",
    "    MATCH\n",
    "        (doc:Document {id: $doc_id}),\n",
    "        (chunk:Chunk {id: $chunk_id})\n",
    "    MERGE (doc)<-[r:PART_OF]-(chunk)\n",
    "    RETURN doc.name, type(r), chunk.title\n",
    "\"\"\""
   ]
  },
  {
   "cell_type": "code",
   "execution_count": null,
   "id": "b1c0e30d-fe86-4f9a-933a-ec0e9c835579",
   "metadata": {},
   "outputs": [],
   "source": [
    "for index, row in part_of_df.iterrows():\n",
    "    clear_output(wait=True)\n",
    "    driver.execute_query(\n",
    "        merge_part_of_query,\n",
    "        database_=DATABASE,\n",
    "        routing_=RoutingControl.WRITE,\n",
    "        doc_id = row.doc_id,\n",
    "        chunk_id = row.chunk_seq_id\n",
    "    )\n",
    "    # print(f\"Loaded relationship from document {row['doc_id']} to chunk {row['chunk_seq_id']}\")\n",
    "    print(\"Progress: \", np.round(((index+1)/part_of_df.shape[0])*100,2), \"%\")"
   ]
  },
  {
   "cell_type": "markdown",
   "id": "d631ada2-93f6-49ac-a5e7-b6a8b21a1678",
   "metadata": {},
   "source": [
    "## Load Chunk to Chunk Relationship"
   ]
  },
  {
   "cell_type": "markdown",
   "id": "41df0221-5e67-4ffb-b6ff-9c8f9fb10b15",
   "metadata": {},
   "source": [
    "Link the chunks in order by the \"NEXT\" relationship."
   ]
  },
  {
   "cell_type": "code",
   "execution_count": null,
   "id": "2a68e7d9-ffe4-451a-9835-53777fe2caad",
   "metadata": {},
   "outputs": [],
   "source": [
    "next_query = \"\"\"\n",
    "    MATCH (doc:Document)\n",
    "    WITH doc\n",
    "    CALL (doc) {\n",
    "        MATCH (doc)<-[:PART_OF]-(chunks:Chunk)\n",
    "        WITH chunks ORDER BY chunks.id ASC\n",
    "        WITH collect(chunks) as chunk_list\n",
    "        CALL apoc.nodes.link(\n",
    "            chunk_list,\n",
    "            \"NEXT\",\n",
    "            {avoidDuplicates: true}\n",
    "        )\n",
    "        RETURN size(chunk_list) as size_chunk_list\n",
    "    }\n",
    "    WITH doc, size_chunk_list\n",
    "    RETURN doc, size_chunk_list\n",
    "\"\"\""
   ]
  },
  {
   "cell_type": "code",
   "execution_count": null,
   "id": "ed34e4b9",
   "metadata": {},
   "outputs": [],
   "source": [
    " driver.execute_query(\n",
    "        next_query,\n",
    "        database_=DATABASE,\n",
    "        routing_=RoutingControl.WRITE\n",
    "    )"
   ]
  },
  {
   "cell_type": "markdown",
   "id": "1b93e960-599d-49a5-9733-4eb2eea05182",
   "metadata": {},
   "source": [
    "### Create Product Types"
   ]
  },
  {
   "cell_type": "markdown",
   "id": "459306d1-71b3-422c-afe0-9403e36545ea",
   "metadata": {},
   "source": [
    "Create products associated to the documents"
   ]
  },
  {
   "cell_type": "code",
   "execution_count": null,
   "id": "8125f0bc-a59e-4850-94d4-9ece59a35c7b",
   "metadata": {},
   "outputs": [],
   "source": [
    "product_query = \"\"\"\n",
    "    MERGE (kranken:ProductType {name: 'Krankenversicherung'})\n",
    "    MERGE (reise:ProductType {name: 'Reisegepäckversicherung'})\n",
    "    MERGE (reiseunfall:ProductType {name: 'Reise-Unfallversicherung'})\n",
    "    MERGE (payment:ProductType {name: 'Consumer Payment Services'})\n",
    "    MERGE (wertpapierdienst:ProductType {name: 'Wertpapierdienstleistungen'})\n",
    "    \n",
    "    \n",
    "    WITH kranken, reise, reiseunfall, payment, wertpapierdienst\n",
    "    SET kranken.id = 0\n",
    "    SET reise.id = 1\n",
    "    SET reiseunfall.id = 2\n",
    "    SET payment.id = 4\n",
    "    SET wertpapierdienst.id = 5\n",
    "    \n",
    "    WITH kranken, reise, reiseunfall, payment, wertpapierdienst\n",
    "    MATCH (doc1:Document {file_name: 'IPID_KV_Sonderklasse_bestHEALTH.pdf'})\n",
    "    MATCH (doc2:Document {file_name: 'Travel_Insurance_Terms_2025.pdf'})\n",
    "    MATCH (doc3:Document {file_name: 'Travel_Insurance_Terms_2025.pdf'})\n",
    "    MATCH (doc4:Document {file_name: 'agb_folder_zadig_rz_en.pdf'})\n",
    "    MATCH (doc5:Document {file_name: 'MIFID_Austria.pdf'})\n",
    "  \n",
    "    MERGE (doc1)-[:RELATED_TO]->(kranken)\n",
    "    MERGE (doc2)-[:RELATED_TO]->(reise)\n",
    "    MERGE (doc3)-[:RELATED_TO]->(reiseunfall)\n",
    "    MERGE (doc4)-[:RELATED_TO]->(payment)\n",
    "    MERGE (doc5)-[:RELATED_TO]->(wertpapierdienst)\n",
    "\"\"\""
   ]
  },
  {
   "cell_type": "code",
   "execution_count": null,
   "id": "7804609b-9bf7-436d-a802-0029eb88b07d",
   "metadata": {},
   "outputs": [],
   "source": [
    "driver.execute_query(\n",
    "        product_query,\n",
    "        database_=DATABASE,\n",
    "        routing_=RoutingControl.WRITE\n",
    "    )"
   ]
  },
  {
   "cell_type": "markdown",
   "id": "67bfe32d-4317-47c5-9206-e34c3cd2b0be",
   "metadata": {},
   "source": [
    "### Create Customers"
   ]
  },
  {
   "cell_type": "markdown",
   "id": "0ac30f7a-57e2-4408-9f74-8b2749c81362",
   "metadata": {},
   "source": [
    "Create some fake customers in the database"
   ]
  },
  {
   "cell_type": "code",
   "execution_count": null,
   "id": "d7c1be7f-2d0f-480b-867c-a75bf8dbae3b",
   "metadata": {},
   "outputs": [],
   "source": [
    "customer_query = \"\"\"\n",
    "\n",
    "WITH 50 as amount, 1950 as startYear, 2021 as endYear, [\n",
    "   'James', 'John', 'William', 'Thomas', 'George',\n",
    "    'Henry', 'Charles', 'Edward', 'Robert', 'Richard',\n",
    "    'Joseph', 'David', 'Daniel', 'Matthew', 'Andrew',\n",
    "    'Michael', 'Peter', 'Christopher', 'Samuel', 'Benjamin',\n",
    "    'Jonathan', 'Alexander', 'Nicholas', 'Stephen', 'Paul',\n",
    "    'Mary', 'Elizabeth', 'Catherine', 'Margaret', 'Anne',\n",
    "    'Sarah', 'Emily', 'Jane', 'Alice', 'Charlotte',\n",
    "    'Victoria', 'Emma', 'Grace', 'Hannah', 'Lucy',\n",
    "    'Rachel', 'Rebecca', 'Laura', 'Julia', 'Caroline',\n",
    "    'Anna', 'Susan', 'Martha', 'Eleanor', 'Rose'\n",
    " ] AS firstNames,\n",
    "[\n",
    "    'Smith', 'Johnson', 'Williams', 'Brown', 'Jones',\n",
    "    'Miller', 'Davis', 'Garcia', 'Rodriguez', 'Martinez',\n",
    "    'Hernandez', 'Lopez', 'Gonzalez', 'Wilson', 'Anderson',\n",
    "    'Thomas', 'Taylor', 'Moore', 'Jackson', 'Martin',\n",
    "    'Lee', 'Perez', 'Thompson', 'White', 'Harris',\n",
    "    'Sanchez', 'Clark', 'Ramirez', 'Lewis', 'Robinson',\n",
    "    'Walker', 'Young', 'Allen', 'King', 'Scott',\n",
    "    'Green', 'Baker', 'Adams', 'Nelson', 'Carter',\n",
    "    'Mitchell', 'Perez', 'Roberts', 'Turner', 'Phillips',\n",
    "    'Campbell', 'Parker', 'Evans', 'Edwards', 'Collins'\n",
    "] AS lastNames\n",
    "UNWIND range(1, amount) AS i\n",
    "CALL (i, firstNames, lastNames, startYear, endYear){\n",
    "    WITH i,\n",
    "       apoc.coll.randomItem(firstNames) AS firstName,\n",
    "       apoc.coll.randomItem(lastNames) AS lastName,\n",
    "       date({\n",
    "          year:toInteger(1+startYear+floor(rand()*(endYear - startYear))), \n",
    "          month:toInteger(1+floor(rand()*12)), \n",
    "          day:toInteger(1+floor(rand()*27))\n",
    "        }) as birth_date\n",
    "  WITH i, firstName, lastName, firstName + ' ' + lastName AS fullName, birth_date\n",
    "  CREATE (c:Customer {\n",
    "    id: i,\n",
    "    firstName: firstName,\n",
    "    lastName: lastName,\n",
    "    name: fullName,\n",
    "    birth_date: birth_date\n",
    "  })\n",
    "}\n",
    "\"\"\""
   ]
  },
  {
   "cell_type": "code",
   "execution_count": null,
   "id": "45754a26-d026-41bc-8e14-291637422893",
   "metadata": {},
   "outputs": [],
   "source": [
    "driver.execute_query(\n",
    "        customer_query,\n",
    "        database_=DATABASE,\n",
    "        routing_=RoutingControl.WRITE\n",
    "    )"
   ]
  },
  {
   "cell_type": "markdown",
   "id": "59849241-036d-4cd1-b706-ce0f1b4c5999",
   "metadata": {},
   "source": [
    "### Link Customers to Products"
   ]
  },
  {
   "cell_type": "markdown",
   "id": "23561ab3-39d3-48d0-bd2a-7b8e11780d8d",
   "metadata": {},
   "source": [
    "Randomly link customers to products"
   ]
  },
  {
   "cell_type": "code",
   "execution_count": null,
   "id": "929016f3-dee2-4acc-8546-2435fefe638d",
   "metadata": {},
   "outputs": [],
   "source": [
    "products_query = \"\"\"\n",
    "    MATCH (c:Customer)\n",
    "    // Randomly assign 1 to 3 product types\n",
    "    WITH c, [\n",
    "        {name: 'Krankenversicherung'},\n",
    "        {name: 'Reisegepäckversicherung'},\n",
    "        {name: 'Reise-Unfallversicherung'},\n",
    "        {name: 'Consumer Payment Services'},\n",
    "        {name: 'Wertpapierdienstleistungen'}\n",
    "    ] AS productTypes\n",
    "    WITH c, apoc.coll.shuffle(productTypes)[..toInteger(rand()*3)+1] AS selectedTypes\n",
    "    UNWIND selectedTypes AS pt\n",
    "    MATCH (ptNode:ProductType {name: pt.name})\n",
    "    \n",
    "    CALL (pt) {\n",
    "        RETURN \n",
    "            CASE pt.name\n",
    "                WHEN 'Consumer Payment Services' THEN 'AT' + apoc.text.random(2, \"0-9\") + '20111' + apoc.text.random(11, \"0-9\")\n",
    "                ELSE NULL \n",
    "            END AS iban,\n",
    "            randomUUID() AS productId,\n",
    "            date({\n",
    "                year: toInteger(1 + 2017 + floor(rand() * (2021 - 2017))),\n",
    "                month: toInteger(1 + floor(rand() * 12)),\n",
    "                day: toInteger(1 + floor(rand() * 27))\n",
    "            }) AS expirationDate\n",
    "    }\n",
    "\n",
    "    CREATE (p:Product {\n",
    "        id: productId,\n",
    "        iban: iban,\n",
    "        name: pt.name + ' Product',\n",
    "        expirationDate: expirationDate\n",
    "    })\n",
    "    MERGE (c)-[:HAS_PRODUCT]->(p)\n",
    "    MERGE (p)-[:OF_TYPE]->(ptNode)\n",
    "    RETURN count(*) AS created\n",
    "\"\"\""
   ]
  },
  {
   "cell_type": "code",
   "execution_count": null,
   "id": "da5747d3-b2fe-49b7-a530-6f061266a985",
   "metadata": {},
   "outputs": [],
   "source": [
    "driver.execute_query(\n",
    "        products_query,\n",
    "        database_=DATABASE,\n",
    "        routing_=RoutingControl.WRITE\n",
    ")"
   ]
  }
 ],
 "metadata": {
  "kernelspec": {
   "display_name": "Python 3 (ipykernel)",
   "language": "python",
   "name": "python3"
  },
  "language_info": {
   "codemirror_mode": {
    "name": "ipython",
    "version": 3
   },
   "file_extension": ".py",
   "mimetype": "text/x-python",
   "name": "python",
   "nbconvert_exporter": "python",
   "pygments_lexer": "ipython3",
   "version": "3.11.5"
  }
 },
 "nbformat": 4,
 "nbformat_minor": 5
}
